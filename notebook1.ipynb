{
  "cells": [
    {
      "cell_type": "markdown",
      "metadata": {
        "id": "CTpu4ptogVIt"
      },
      "source": [
        "# Importowanie bibliotek\n",
        "\n",
        "W tej komórce importujemy trzy biblioteki, które będą używane w dalszej części notebooka:\n",
        "1. `matplotlib.pyplot` jako `plt` - biblioteka do tworzenia wykresów i wizualizacji danych.\n",
        "2. `pandas` jako `pd` - biblioteka do manipulacji i analizy danych w formie tabelarycznej.\n",
        "3. `pipeline` z `transformers` - funkcja z biblioteki transformers, która umożliwia łatwe korzystanie z modeli NLP (Natural Language Processing)."
      ]
    },
    {
      "cell_type": "code",
      "execution_count": 3,
      "metadata": {
        "id": "kWiWmoeJgR9L"
      },
      "outputs": [],
      "source": [
        "import matplotlib.pyplot as plt\n",
        "import pandas as pd\n",
        "from transformers import pipeline"
      ]
    },
    {
      "cell_type": "markdown",
      "metadata": {
        "id": "bD855JVrgYa3"
      },
      "source": [
        "# Inicjalizacja pipeline do analizy sentymentu\n",
        "\n",
        "W tej komórce inicjalizujemy pipeline do analizy sentymentu z użyciem modelu `nlptown/bert-base-multilingual-uncased-sentiment`. Pipeline ten umożliwia analizę sentymentu tekstu w wielu językach, w tym w języku polskim."
      ]
    },
    {
      "cell_type": "code",
      "execution_count": 4,
      "metadata": {
        "colab": {
          "base_uri": "https://localhost:8080/"
        },
        "id": "5TsiBRyugYoV",
        "outputId": "35bb90f6-6aba-4795-d85d-c9a780cc26da"
      },
      "outputs": [
        {
          "name": "stderr",
          "output_type": "stream",
          "text": [
            "Device set to use cuda:0\n"
          ]
        }
      ],
      "source": [
        "sentiment_pipeline = pipeline(\"sentiment-analysis\", model=\"nlptown/bert-base-multilingual-uncased-sentiment\")"
      ]
    },
    {
      "cell_type": "markdown",
      "metadata": {
        "id": "5Y66vcozgc2P"
      },
      "source": [
        "# Przykładowe komentarze do analizy\n",
        "\n",
        "W tej komórce definiujemy listę przykładowych komentarzy, które będą analizowane pod kątem sentymentu. Komentarze te są napisane w języku polskim i obejmują zarówno pozytywne, jak i negatywne opinie na temat produktu."
      ]
    },
    {
      "cell_type": "code",
      "execution_count": 9,
      "metadata": {
        "id": "AZmg3vJ_giP_"
      },
      "outputs": [],
      "source": [
        "comments = [\n",
        "    \"Ten produkt jest niesamowity! Naprawdę mi się podoba.\",\n",
        "    \"Nie polecam tego, bardzo rozczarowany.\",\n",
        "    \"Średni produkt, nic specjalnego.\",\n",
        "    \"Absolutnie fantastyczny, robi cuda!\",\n",
        "    \"Bardzo słaba jakość, żałuję zakupu.\",\n",
        "    \"Jestem zachwycony, super jakość i szybka dostawa.\",\n",
        "    \"Produkt ok, ale mogło być lepiej.\",\n",
        "    \"Najgorsze doświadczenie, kompletnie się nie sprawdził.\"\n",
        "]"
      ]
    },
    {
      "cell_type": "markdown",
      "metadata": {
        "id": "ATuPW6PmgjbZ"
      },
      "source": [
        "# Analiza sentymentu i wyświetlenie wyników\n",
        "\n",
        "W tej komórce przeprowadzamy analizę sentymentu dla każdego komentarza z listy `comments` za pomocą wcześniej zainicjalizowanego pipeline `sentiment_pipeline`. Wyniki analizy są następnie wyświetlane w formie tekstowej, gdzie dla każdego komentarza pokazujemy jego treść oraz wynik analizy sentymentu."
      ]
    },
    {
      "cell_type": "code",
      "execution_count": null,
      "metadata": {
        "colab": {
          "base_uri": "https://localhost:8080/"
        },
        "id": "r8nncFlognK5",
        "outputId": "fa1cfc36-e782-4e4e-ee6f-56879fe94650"
      },
      "outputs": [
        {
          "name": "stdout",
          "output_type": "stream",
          "text": [
            "Komentarz: Ten produkt jest niesamowity! Naprawdę mi się podoba.\n",
            "Wynik analizy: {'label': '2 stars', 'score': 0.4008887708187103}\n",
            "-----\n",
            "Komentarz: Nie polecam tego, bardzo rozczarowany.\n",
            "Wynik analizy: {'label': '1 star', 'score': 0.697340190410614}\n",
            "-----\n",
            "Komentarz: Średni produkt, nic specjalnego.\n",
            "Wynik analizy: {'label': '3 stars', 'score': 0.5476382970809937}\n",
            "-----\n",
            "Komentarz: Absolutnie fantastyczny, robi cuda!\n",
            "Wynik analizy: {'label': '5 stars', 'score': 0.9242027997970581}\n",
            "-----\n",
            "Komentarz: Bardzo słaba jakość, żałuję zakupu.\n",
            "Wynik analizy: {'label': '2 stars', 'score': 0.48955705761909485}\n",
            "-----\n",
            "Komentarz: Jestem zachwycony, super jakość i szybka dostawa.\n",
            "Wynik analizy: {'label': '5 stars', 'score': 0.7964646816253662}\n",
            "-----\n",
            "Komentarz: Produkt ok, ale mogło być lepiej.\n",
            "Wynik analizy: {'label': '3 stars', 'score': 0.7333406209945679}\n",
            "-----\n",
            "Komentarz: Najgorsze doświadczenie, kompletnie się nie sprawdził.\n",
            "Wynik analizy: {'label': '1 star', 'score': 0.41465744376182556}\n",
            "-----\n",
            "Komentarz: Lubie w dupe szybki seks\n",
            "Wynik analizy: {'label': '4 stars', 'score': 0.33355939388275146}\n",
            "-----\n"
          ]
        }
      ],
      "source": [
        "results = sentiment_pipeline(comments)\n",
        "\n",
        "for comment, result in zip(comments, results):\n",
        "    print(\"Komentarz:\", comment)\n",
        "    print(\"Wynik analizy:\", result)\n",
        "    print(\"-----\")"
      ]
    },
    {
      "cell_type": "markdown",
      "metadata": {
        "id": "L2w2ebRYgriO"
      },
      "source": [
        "# Mapowanie wyników analizy na kategorie sentymentu\n",
        "\n",
        "W tej komórce definiujemy funkcję `map_sentiment`, która mapuje etykiety wyników analizy sentymentu na kategorie: \"Negatywne\", \"Neutralne\" i \"Pozytywne\". Funkcja ta przyjmuje etykietę w formacie \"X stars\" (gdzie X to liczba gwiazdek) i zwraca odpowiednią kategorię sentymentu."
      ]
    },
    {
      "cell_type": "code",
      "execution_count": null,
      "metadata": {
        "id": "S_WMWVgEgvRM"
      },
      "outputs": [],
      "source": [
        "def map_sentiment(label):\n",
        "    stars = int(label.split()[0])\n",
        "    if stars <= 2:\n",
        "        return \"Negatywne\"\n",
        "    elif stars == 3:\n",
        "        return \"Neutralne\"\n",
        "    else:\n",
        "        return \"Pozytywne\""
      ]
    },
    {
      "cell_type": "markdown",
      "metadata": {
        "id": "CH5-u4UygxvH"
      },
      "source": [
        "# Tworzenie DataFrame z wynikami analizy sentymentu\n",
        "\n",
        "W tej komórce tworzymy DataFrame z wynikami analizy sentymentu. Dodajemy kolumny \"Komentarz\" i \"Kategoria\" do DataFrame, gdzie \"Komentarz\" zawiera oryginalne komentarze, a \"Kategoria\" zawiera zmapowane kategorie sentymentu (Negatywne, Neutralne, Pozytywne). Na końcu wyświetlamy podsumowanie wyników."
      ]
    },
    {
      "cell_type": "code",
      "execution_count": 1,
      "metadata": {
        "colab": {
          "base_uri": "https://localhost:8080/"
        },
        "id": "gmWvE_1rg4C7",
        "outputId": "3d6f0d68-dc8b-482c-fb74-99e4182c9c00"
      },
      "outputs": [
        {
          "ename": "NameError",
          "evalue": "name 'pd' is not defined",
          "output_type": "error",
          "traceback": [
            "\u001b[1;31m---------------------------------------------------------------------------\u001b[0m",
            "\u001b[1;31mNameError\u001b[0m                                 Traceback (most recent call last)",
            "Cell \u001b[1;32mIn[1], line 1\u001b[0m\n\u001b[1;32m----> 1\u001b[0m df \u001b[38;5;241m=\u001b[39m pd\u001b[38;5;241m.\u001b[39mDataFrame(results)\n\u001b[0;32m      2\u001b[0m df[\u001b[38;5;124m\"\u001b[39m\u001b[38;5;124mKomentarz\u001b[39m\u001b[38;5;124m\"\u001b[39m] \u001b[38;5;241m=\u001b[39m comments\n\u001b[0;32m      3\u001b[0m df[\u001b[38;5;124m\"\u001b[39m\u001b[38;5;124mKategoria\u001b[39m\u001b[38;5;124m\"\u001b[39m] \u001b[38;5;241m=\u001b[39m df[\u001b[38;5;124m\"\u001b[39m\u001b[38;5;124mlabel\u001b[39m\u001b[38;5;124m\"\u001b[39m]\u001b[38;5;241m.\u001b[39mapply(map_sentiment)\n",
            "\u001b[1;31mNameError\u001b[0m: name 'pd' is not defined"
          ]
        }
      ],
      "source": [
        "df = pd.DataFrame(results)\n",
        "df[\"Komentarz\"] = comments\n",
        "df[\"Kategoria\"] = df[\"label\"].apply(map_sentiment)\n",
        "\n",
        "print(\"Podsumowanie wyników:\")\n",
        "print(df)"
      ]
    },
    {
      "cell_type": "markdown",
      "metadata": {
        "id": "ln0MqiXlg5J9"
      },
      "source": [
        "# Wizualizacja rozkładu sentymentów komentarzy\n",
        "\n",
        "W tej komórce tworzymy wykres słupkowy przedstawiający rozkład sentymentów komentarzy. Najpierw obliczamy liczbę komentarzy w każdej kategorii sentymentu (Negatywne, Neutralne, Pozytywne) za pomocą `value_counts()`. Następnie tworzymy wykres słupkowy z użyciem `matplotlib`, ustawiając odpowiednie tytuły i etykiety osi."
      ]
    },
    {
      "cell_type": "code",
      "execution_count": null,
      "metadata": {
        "colab": {
          "base_uri": "https://localhost:8080/",
          "height": 565
        },
        "id": "6lw22IOO2jS3",
        "outputId": "0fd6c4e3-7ec8-4bb4-cbae-4a1095f929cf"
      },
      "outputs": [
        {
          "data": {
            "image/png": "[encoded data removed]",
            "text/plain": [
              "<Figure size 800x600 with 1 Axes>"
            ]
          },
          "metadata": {},
          "output_type": "display_data"
        }
      ],
      "source": [
        "sentiment_counts = df[\"Kategoria\"].value_counts()\n",
        "\n",
        "plt.figure(figsize=(8, 6))\n",
        "sentiment_counts.plot(kind='bar', color=['red', 'gray', 'green'])\n",
        "plt.title(\"Rozkład sentymentów komentarzy\")\n",
        "plt.xlabel(\"Kategoria\")\n",
        "plt.ylabel(\"Liczba komentarzy\")\n",
        "plt.xticks(rotation=0)\n",
        "plt.show()"
      ]
    }
  ],
  "metadata": {
    "accelerator": "GPU",
    "colab": {
      "gpuType": "T4",
      "provenance": []
    },
    "kernelspec": {
      "display_name": "base",
      "language": "python",
      "name": "python3"
    },
    "language_info": {
      "codemirror_mode": {
        "name": "ipython",
        "version": 3
      },
      "file_extension": ".py",
      "mimetype": "text/x-python",
      "name": "python",
      "nbconvert_exporter": "python",
      "pygments_lexer": "ipython3",
      "version": "3.12.7"
    }
  },
  "nbformat": 4,
  "nbformat_minor": 0
}
